{
 "cells": [
  {
   "cell_type": "code",
   "execution_count": 19,
   "id": "4713306d",
   "metadata": {},
   "outputs": [],
   "source": [
    "#new_list = [expression for item in iterable if condition]\n",
    "import re"
   ]
  },
  {
   "cell_type": "code",
   "execution_count": 1,
   "id": "fd79850b",
   "metadata": {},
   "outputs": [
    {
     "name": "stdout",
     "output_type": "stream",
     "text": [
      "[0, 1, 4, 9, 16]\n"
     ]
    }
   ],
   "source": [
    "nl = [ x**2 for x in range(5)]\n",
    "print(nl)"
   ]
  },
  {
   "cell_type": "code",
   "execution_count": 2,
   "id": "ac0625de",
   "metadata": {},
   "outputs": [
    {
     "name": "stdout",
     "output_type": "stream",
     "text": [
      "[0, 2, 4, 6, 8]\n"
     ]
    }
   ],
   "source": [
    "nl = [ x for x in range(10) if x%2==0]\n",
    "print(nl)"
   ]
  },
  {
   "cell_type": "code",
   "execution_count": 3,
   "id": "3286b6d1",
   "metadata": {},
   "outputs": [
    {
     "name": "stdout",
     "output_type": "stream",
     "text": [
      "['ALICE', 'BOB', 'CHARLIE']\n"
     ]
    }
   ],
   "source": [
    "names = ['alice', 'bob', 'charlie']\n",
    "nl = [x.upper() for x in names]\n",
    "print(nl)"
   ]
  },
  {
   "cell_type": "code",
   "execution_count": 4,
   "id": "ac2a6a41",
   "metadata": {},
   "outputs": [
    {
     "name": "stdout",
     "output_type": "stream",
     "text": [
      "[(1, 'A'), (1, 'B'), (2, 'A'), (2, 'B')]\n"
     ]
    }
   ],
   "source": [
    "list1 = [1, 2]\n",
    "list2 = ['A', 'B']\n",
    "nl = [ (x,y) for x in list1 for y in list2]\n",
    "print(nl)"
   ]
  },
  {
   "cell_type": "code",
   "execution_count": 7,
   "id": "ed12d1da",
   "metadata": {},
   "outputs": [
    {
     "name": "stdout",
     "output_type": "stream",
     "text": [
      "[0, 0, 0, 1, 2]\n"
     ]
    }
   ],
   "source": [
    "numbers = [-2, -1, 0, 1, 2]\n",
    "nl = [x if x >= 0 else 0 for x in numbers ]\n",
    "print(nl)"
   ]
  },
  {
   "cell_type": "code",
   "execution_count": 9,
   "id": "c7a8626b",
   "metadata": {},
   "outputs": [
    {
     "name": "stdout",
     "output_type": "stream",
     "text": [
      "[0, 4, 16, 36, 64, 100, 144, 196, 256, 324, 400]\n"
     ]
    }
   ],
   "source": [
    "nl  = [x**2 for x in range(21) if x%2==0]\n",
    "print(nl)"
   ]
  },
  {
   "cell_type": "code",
   "execution_count": 12,
   "id": "3fd00250",
   "metadata": {},
   "outputs": [
    {
     "name": "stdout",
     "output_type": "stream",
     "text": [
      "['a', 'i']\n"
     ]
    }
   ],
   "source": [
    "name = 'sahil'\n",
    "nl = [ x for x in name if x in 'aeiou']\n",
    "print(nl)"
   ]
  },
  {
   "cell_type": "code",
   "execution_count": 13,
   "id": "7e5284a0",
   "metadata": {},
   "outputs": [
    {
     "name": "stdout",
     "output_type": "stream",
     "text": [
      "[1, 2, 3, 4, 5, 6]\n"
     ]
    }
   ],
   "source": [
    "ls = [[1, 2], [3, 4], [5, 6]]\n",
    "\n",
    "nl = [ y for x in ls for y in x]\n",
    "print(nl)"
   ]
  },
  {
   "cell_type": "code",
   "execution_count": 64,
   "id": "17f478f8",
   "metadata": {},
   "outputs": [
    {
     "name": "stdout",
     "output_type": "stream",
     "text": [
      "123456\n",
      "['a', 'b', 'c', '1', '2', '3', 'x', 'y', 'z', '4', '5', '6']\n"
     ]
    }
   ],
   "source": [
    "s = \"abc123xyz4-56\"\n",
    "nl = ''.join([x for x in s if x.isdigit()])\n",
    "print(nl)\n",
    "rg = re.findall('\\w',s)\n",
    "print(rg)"
   ]
  },
  {
   "cell_type": "code",
   "execution_count": 35,
   "id": "0add953a",
   "metadata": {},
   "outputs": [
    {
     "name": "stdout",
     "output_type": "stream",
     "text": [
      "[['apple', 5], ['banana', 6], ['cherry', 6], ['date', 4]]\n",
      "[['apple', 'a'], ['banana', 'b'], ['cherry', 'c'], ['date', 'd']]\n"
     ]
    }
   ],
   "source": [
    "words = [\"apple\", \"banana\", \"cherry\", \"date\"]\n",
    "nl = [ [x,len(x)] for x in words ]\n",
    "print(nl)\n",
    "nl = [ [x,x[0]] for x in words ]\n",
    "print(nl)"
   ]
  },
  {
   "cell_type": "code",
   "execution_count": 37,
   "id": "2ad10fd5",
   "metadata": {},
   "outputs": [
    {
     "name": "stdout",
     "output_type": "stream",
     "text": [
      "[(1, 1), (2, 4), (3, 9), (4, 16)]\n"
     ]
    }
   ],
   "source": [
    "nums = [1, 2, 3, 4]\n",
    "nl = [ (x,x**2) for x in nums ]\n",
    "print(nl)"
   ]
  },
  {
   "cell_type": "code",
   "execution_count": 39,
   "id": "97ac833c",
   "metadata": {},
   "outputs": [
    {
     "name": "stdout",
     "output_type": "stream",
     "text": [
      "[1, 4, 3, 16, 5, 36]\n"
     ]
    }
   ],
   "source": [
    "nums = [1, 2, 3, 4, 5, 6]\n",
    "\n",
    "nl = [ x**2 if x%2==0 else x for x in nums ]\n",
    "print(nl)"
   ]
  },
  {
   "cell_type": "code",
   "execution_count": 54,
   "id": "d6c010b2",
   "metadata": {},
   "outputs": [
    {
     "name": "stdout",
     "output_type": "stream",
     "text": [
      "[('r', 2), ('b', 2), ('c', 1), ('a', 5), ('d', 1)]\n",
      "[('r', 2), ('b', 2), ('c', 1), ('a', 5), ('d', 1)]\n"
     ]
    }
   ],
   "source": [
    "s = \"abracadabra\"\n",
    "nl = [ (x,s.count(x)) for x in set(s) ]\n",
    "print(nl)\n",
    "nl = [ (x,sum(1 for y in s if y == x)) for x in set(s) ]\n",
    "print(nl)"
   ]
  },
  {
   "cell_type": "code",
   "execution_count": 58,
   "id": "649e1665",
   "metadata": {},
   "outputs": [
    {
     "name": "stdout",
     "output_type": "stream",
     "text": [
      "[4, 10, 18]\n"
     ]
    }
   ],
   "source": [
    "list1 = [1, 2, 3] \n",
    "list2 = [4, 5, 6]\n",
    "nl = [ x*y for x,y in zip(list1, list2)]\n",
    "print(nl)"
   ]
  },
  {
   "cell_type": "code",
   "execution_count": 60,
   "id": "579ed1ec",
   "metadata": {},
   "outputs": [
    {
     "name": "stdout",
     "output_type": "stream",
     "text": [
      "[3, 4]\n"
     ]
    }
   ],
   "source": [
    "list1 = [1, 2, 3, 4]\n",
    "list2 = [3, 4, 5, 6]\n",
    "nl = [ x for x in list1 if  x in list2]\n",
    "print(nl)"
   ]
  },
  {
   "cell_type": "code",
   "execution_count": 71,
   "id": "6744047e",
   "metadata": {},
   "outputs": [
    {
     "name": "stdout",
     "output_type": "stream",
     "text": [
      "hello world\n"
     ]
    }
   ],
   "source": [
    "n = \"hello world\"\n",
    "nl = ''.join([ x[::-1] for x in n])\n",
    "print(nl)"
   ]
  },
  {
   "cell_type": "code",
   "execution_count": 79,
   "id": "e7a8315e",
   "metadata": {},
   "outputs": [
    {
     "name": "stdout",
     "output_type": "stream",
     "text": [
      "[0, 0, 1, 0, 0, 1, 0, 0, 1, 0, 0, 0, 1, 0, 0, 0, 1, 0]\n"
     ]
    }
   ],
   "source": [
    "n = \"programming is fun\"\n",
    "nl = [1 if x in ('aeiou') else 0 for x in n ]\n",
    "print(nl)"
   ]
  },
  {
   "cell_type": "code",
   "execution_count": 91,
   "id": "c98bb72b",
   "metadata": {},
   "outputs": [
    {
     "name": "stdout",
     "output_type": "stream",
     "text": [
      "[1, 1, 1, 1, 1]\n"
     ]
    }
   ],
   "source": [
    "n = 'madam'\n",
    "nl = [1 if x==x[::-1] else 0  for x in n]\n",
    "print(nl)"
   ]
  },
  {
   "cell_type": "code",
   "execution_count": 107,
   "id": "d5ce7803",
   "metadata": {},
   "outputs": [
    {
     "name": "stdout",
     "output_type": "stream",
     "text": [
      "[['r', 2], ['b', 2], ['c', 1], ['a', 5], ['d', 1]]\n"
     ]
    }
   ],
   "source": [
    "n = 'abracadabra'\n",
    "nl = [ [x,n.count(x)] for x in set(n)]\n",
    "print(nl)"
   ]
  },
  {
   "cell_type": "code",
   "execution_count": 132,
   "id": "911c20ce",
   "metadata": {},
   "outputs": [
    {
     "name": "stdout",
     "output_type": "stream",
     "text": [
      "5 [('quick', 5), ('brown', 5), ('jumps', 5)]\n"
     ]
    }
   ],
   "source": [
    "n = \"The quick brown fox jumps over the lazy dog\"\n",
    "mx  = max([len(x) for x in n.split()])\n",
    "nl = [ (x,len(x)) for x in n.split() if len(x)==5]\n",
    "print(mx,nl)"
   ]
  },
  {
   "cell_type": "code",
   "execution_count": 146,
   "id": "995788ba",
   "metadata": {},
   "outputs": [
    {
     "name": "stdout",
     "output_type": "stream",
     "text": [
      "[1, 1, 1, 1, 1, 1]\n"
     ]
    }
   ],
   "source": [
    "l1 = \"listen\" \n",
    "l2 = \"silent\" \n",
    "nl = [ 1 for x in l1 if sorted(l1)==sorted(l2) ]\n",
    "print(nl)"
   ]
  },
  {
   "cell_type": "code",
   "execution_count": 158,
   "id": "8b167b09",
   "metadata": {},
   "outputs": [
    {
     "name": "stdout",
     "output_type": "stream",
     "text": [
      "The cat chased another cat\n"
     ]
    }
   ],
   "source": [
    "ss  = 'dog'\n",
    "st = 'cat'\n",
    "n = \"The dog chased another dog\"\n",
    "nl = ' '.join([ st if x == ss else x for x in n.split()])\n",
    "print(nl)"
   ]
  },
  {
   "cell_type": "code",
   "execution_count": 159,
   "id": "93f7caa6",
   "metadata": {},
   "outputs": [],
   "source": [
    "from typing import List\n",
    "from typing import List\n",
    "\n",
    "nums1 = [1, 2, 3, 0, 0, 0]\n",
    "nums2 = [2, 5, 6]\n",
    "m = len(nums1)\n",
    "n = len(nums2)\n",
    "\n",
    "class Solution:\n",
    "    def merge(self, nums1: List[int], m: int, nums2: List[int], n: int) -> None:\n",
    "        \"\"\"\n",
    "        Merges two sorted arrays (nums1 and nums2) into nums1 in-place.\n",
    "        \"\"\"\n",
    "        # Start filling from the end of nums1\n",
    "        p1, p2, p = m - 1, n - 1, m + n - 1\n",
    "\n",
    "        # Merge in reverse order\n",
    "        while p1 >= 0 and p2 >= 0:\n",
    "            if nums1[p1] > nums2[p2]:\n",
    "                nums1[p] = nums1[p1]\n",
    "                p1 -= 1\n",
    "            else:\n",
    "                nums1[p] = nums2[p2]\n",
    "                p2 -= 1\n",
    "            p -= 1\n",
    "\n",
    "        # If any elements are left in nums2\n",
    "        nums1[:p2 + 1] = nums2[:p2 + 1]\n",
    "\n",
    "class Solution:\n",
    "    def merge(self, nums1: List[int], m: int, nums2: List[int], n: int) -> None:\n",
    "        \"\"\"\n",
    "        Merges two sorted arrays (nums1 and nums2) into nums1 in-place.\n",
    "        \"\"\"\n",
    "        # Start filling from the end of nums1\n",
    "        p1, p2, p = m - 1, n - 1, m + n - 1\n",
    "\n",
    "        # Merge in reverse order\n",
    "        while p1 >= 0 and p2 >= 0:\n",
    "            if nums1[p1] > nums2[p2]:\n",
    "                nums1[p] = nums1[p1]\n",
    "                p1 -= 1\n",
    "            else:\n",
    "                nums1[p] = nums2[p2]\n",
    "                p2 -= 1\n",
    "            p -= 1\n",
    "\n",
    "        # If any elements are left in nums2\n",
    "        nums1[:p2 + 1] = nums2[:p2 + 1]"
   ]
  },
  {
   "cell_type": "code",
   "execution_count": 160,
   "id": "e38d157e",
   "metadata": {},
   "outputs": [
    {
     "name": "stdout",
     "output_type": "stream",
     "text": [
      "[1, 2, 2, 3, 5, 6]\n"
     ]
    }
   ],
   "source": [
    "solution = Solution()\n",
    "solution.merge(nums1, 3, nums2, 3)\n",
    "print(nums1)"
   ]
  },
  {
   "cell_type": "code",
   "execution_count": 161,
   "id": "a1db397f",
   "metadata": {},
   "outputs": [
    {
     "name": "stdout",
     "output_type": "stream",
     "text": [
      "5\n"
     ]
    }
   ],
   "source": [
    "s = \"The quick brown fox jumps over the lazy dog\"\n",
    "nl  = max([len(x) for x in s.split()])\n",
    "print(nl)\n",
    "        "
   ]
  },
  {
   "cell_type": "code",
   "execution_count": 172,
   "id": "e2459a43",
   "metadata": {},
   "outputs": [
    {
     "name": "stdout",
     "output_type": "stream",
     "text": [
      "4\n"
     ]
    }
   ],
   "source": [
    "s = \"The quick brown fox jumps over the lazy\"\n",
    "\n",
    "print(len(s.split()[-1]))"
   ]
  },
  {
   "cell_type": "code",
   "execution_count": 174,
   "id": "2f2ab728",
   "metadata": {},
   "outputs": [
    {
     "name": "stdout",
     "output_type": "stream",
     "text": [
      "<class 'int'>\n"
     ]
    }
   ],
   "source": [
    "print(type(len(s.split()[-1])))"
   ]
  },
  {
   "cell_type": "code",
   "execution_count": 207,
   "id": "a7f6287e",
   "metadata": {},
   "outputs": [
    {
     "name": "stdout",
     "output_type": "stream",
     "text": [
      "[('f', 'f', 'f'), ('l', 'l', 'l'), ('o', 'o', 'i'), ('w', 'w', 'g')]\n"
     ]
    }
   ],
   "source": [
    "strs = [\"flower\",\"flow\",\"flight\"]\n",
    "l = list(zip(*strs))\n",
    "print(l)"
   ]
  },
  {
   "cell_type": "code",
   "execution_count": 215,
   "id": "5739d9da",
   "metadata": {},
   "outputs": [
    {
     "name": "stdout",
     "output_type": "stream",
     "text": [
      "fl\n"
     ]
    }
   ],
   "source": [
    "pr = ''\n",
    "l = list(zip(*strs))\n",
    "for i in l:\n",
    "    if len(set(i))==1:\n",
    "        pr= pr+i[0]\n",
    "print(pr)\n",
    "        \n",
    "\n",
    "    \n",
    "    "
   ]
  },
  {
   "cell_type": "code",
   "execution_count": 228,
   "id": "fb27c55a",
   "metadata": {},
   "outputs": [],
   "source": [
    "haystack = \"leetcode\"\n",
    "needle = \"leeto\"\n",
    "l1 = len(haystack)\n",
    "l2 = len(needle)\n",
    "\n",
    "#print(l1,l2,l1-l2)\n",
    "for i in range(l1-l2+1):\n",
    "    #print(haystack[i:i+l2])\n",
    "    if needle == haystack[i:i+l2]:\n",
    "        print(i)\n",
    "    "
   ]
  },
  {
   "cell_type": "code",
   "execution_count": 231,
   "id": "3201f7a9",
   "metadata": {
    "scrolled": true
   },
   "outputs": [
    {
     "name": "stdout",
     "output_type": "stream",
     "text": [
      "8 5 3\n",
      "leetc\n",
      "eetco\n",
      "etcod\n",
      "tcode\n"
     ]
    },
    {
     "ename": "IndexError",
     "evalue": "list index out of range",
     "output_type": "error",
     "traceback": [
      "\u001b[0;31m---------------------------------------------------------------------------\u001b[0m",
      "\u001b[0;31mIndexError\u001b[0m                                Traceback (most recent call last)",
      "Input \u001b[0;32mIn [231]\u001b[0m, in \u001b[0;36m<cell line: 10>\u001b[0;34m()\u001b[0m\n\u001b[1;32m      8\u001b[0m         \u001b[38;5;28mprint\u001b[39m(i)\n\u001b[1;32m      9\u001b[0m         l\u001b[38;5;241m.\u001b[39mappend(i)\n\u001b[0;32m---> 10\u001b[0m \u001b[38;5;28mprint\u001b[39m (\u001b[43ml\u001b[49m\u001b[43m[\u001b[49m\u001b[38;5;241;43m0\u001b[39;49m\u001b[43m]\u001b[49m)\n",
      "\u001b[0;31mIndexError\u001b[0m: list index out of range"
     ]
    }
   ],
   "source": [
    "l1 = len(haystack)\n",
    "l2 = len(needle)\n",
    "l = []\n",
    "print(l1,l2,l1-l2)\n",
    "for i in range(l1-l2+1):\n",
    "    print(haystack[i:i+l2])\n",
    "    if needle == haystack[i:i+l2]:\n",
    "        print(i)\n",
    "        l.append(i)\n",
    "l1 = len(haystack)\n",
    "l2 = len(needle)\n",
    "l = []\n",
    "print(l1,l2,l1-l2)\n",
    "for i in range(l1-l2+1):\n",
    "    print(haystack[i:i+l2])\n",
    "    if needle == haystack[i:i+l2]:\n",
    "        print(i)\n",
    "        l.append(i)\n",
    "print (l[0])"
   ]
  },
  {
   "cell_type": "code",
   "execution_count": 235,
   "id": "ce1a5a99",
   "metadata": {},
   "outputs": [
    {
     "name": "stdout",
     "output_type": "stream",
     "text": [
      "8 5 3\n",
      "No match found\n"
     ]
    }
   ],
   "source": [
    "haystack = \"leetcode\"\n",
    "needle = \"leeto\"\n",
    "\n",
    "l1 = len(haystack)\n",
    "l2 = len(needle)\n",
    "l = []\n",
    "print(l1, l2, l1 - l2)\n",
    "\n",
    "# Loop through haystack and find matches\n",
    "for i in range(l1 - l2 + 1):\n",
    "    if needle == haystack[i:i + l2]:\n",
    "        print(i)  # Print the index where the needle matches\n",
    "        l.append(i)\n",
    "\n",
    "# Check if there were any matches\n",
    "if l:\n",
    "    print(l[0])  # Print the first match if found\n",
    "else:\n",
    "    print(\"No match found\")"
   ]
  },
  {
   "cell_type": "code",
   "execution_count": 248,
   "id": "6d76ab07",
   "metadata": {},
   "outputs": [
    {
     "name": "stdout",
     "output_type": "stream",
     "text": [
      "4 1990\n"
     ]
    }
   ],
   "source": [
    "1994%10\n",
    "num = 1994\n",
    "res = num%10\n",
    "ad = num - (num%10)\n",
    "print(res,ad)"
   ]
  },
  {
   "cell_type": "code",
   "execution_count": 251,
   "id": "d5a09081",
   "metadata": {},
   "outputs": [
    {
     "name": "stdout",
     "output_type": "stream",
     "text": [
      "90 1900\n"
     ]
    }
   ],
   "source": [
    "res1 =ad%100\n",
    "n2 = ad - (res1)\n",
    "print(res1,n2)"
   ]
  },
  {
   "cell_type": "code",
   "execution_count": 254,
   "id": "04fed29a",
   "metadata": {},
   "outputs": [
    {
     "data": {
      "text/plain": [
       "4.0"
      ]
     },
     "execution_count": 254,
     "metadata": {},
     "output_type": "execute_result"
    }
   ],
   "source": []
  },
  {
   "cell_type": "code",
   "execution_count": 255,
   "id": "6fc768e2",
   "metadata": {},
   "outputs": [
    {
     "data": {
      "text/plain": [
       "990"
      ]
     },
     "execution_count": 255,
     "metadata": {},
     "output_type": "execute_result"
    }
   ],
   "source": [
    "1990%1000 # M"
   ]
  },
  {
   "cell_type": "code",
   "execution_count": 257,
   "id": "f7be654c",
   "metadata": {},
   "outputs": [
    {
     "data": {
      "text/plain": [
       "90"
      ]
     },
     "execution_count": 257,
     "metadata": {},
     "output_type": "execute_result"
    }
   ],
   "source": [
    "990%100"
   ]
  },
  {
   "cell_type": "code",
   "execution_count": 260,
   "id": "3df8541c",
   "metadata": {},
   "outputs": [
    {
     "data": {
      "text/plain": [
       "0"
      ]
     },
     "execution_count": 260,
     "metadata": {},
     "output_type": "execute_result"
    }
   ],
   "source": [
    "3749//10000"
   ]
  },
  {
   "cell_type": "code",
   "execution_count": 261,
   "id": "189fbeaa",
   "metadata": {},
   "outputs": [],
   "source": [
    "rows = [\"\"] * 4"
   ]
  },
  {
   "cell_type": "code",
   "execution_count": 262,
   "id": "75dbc3be",
   "metadata": {},
   "outputs": [
    {
     "data": {
      "text/plain": [
       "['', '', '', '']"
      ]
     },
     "execution_count": 262,
     "metadata": {},
     "output_type": "execute_result"
    }
   ],
   "source": [
    "rows"
   ]
  },
  {
   "cell_type": "code",
   "execution_count": 272,
   "id": "d16ab93c",
   "metadata": {},
   "outputs": [
    {
     "name": "stdout",
     "output_type": "stream",
     "text": [
      "5 5\n",
      "True\n"
     ]
    }
   ],
   "source": [
    "nums = [1,2,3,4,5]\n",
    "print(len(nums),len(set(nums)))\n",
    "print(len(nums)==len(set(nums)))"
   ]
  },
  {
   "cell_type": "code",
   "execution_count": 294,
   "id": "c14677cf",
   "metadata": {},
   "outputs": [
    {
     "name": "stdout",
     "output_type": "stream",
     "text": [
      "[('s', 1), ('i', 1), ('h', 1), ('l', 1), ('a', 2)]\n"
     ]
    }
   ],
   "source": [
    "from collections import Counter\n",
    "s = 'saahil'\n",
    "nl = [(x,sum(1 for ch in s if ch==x)) for x in set(s) ]\n",
    "print(nl)"
   ]
  },
  {
   "cell_type": "code",
   "execution_count": 314,
   "id": "18dd765f",
   "metadata": {},
   "outputs": [
    {
     "name": "stdout",
     "output_type": "stream",
     "text": [
      "6\n"
     ]
    }
   ],
   "source": [
    "s = 'saahil'\n",
    "nl = sum([1 for x in s ])\n",
    "print(nl)"
   ]
  },
  {
   "cell_type": "code",
   "execution_count": 311,
   "id": "bb086acf",
   "metadata": {},
   "outputs": [
    {
     "name": "stdout",
     "output_type": "stream",
     "text": [
      "Prime\n"
     ]
    }
   ],
   "source": [
    "n = 5\n",
    "for i in range(2,int(n/2)+1):\n",
    "    if n%i == 0:\n",
    "        print (\"Not a prime\") \n",
    "        break\n",
    "print (\"Prime\")\n"
   ]
  },
  {
   "cell_type": "code",
   "execution_count": 320,
   "id": "b57aabc8",
   "metadata": {},
   "outputs": [
    {
     "name": "stdout",
     "output_type": "stream",
     "text": [
      "saahil\n"
     ]
    }
   ],
   "source": [
    "import re\n",
    "s = 'saahi!^@!$l'\n",
    "s  = re.sub(r'[^a-zA-Z0-9]','',s)\n",
    "print(s)"
   ]
  },
  {
   "cell_type": "code",
   "execution_count": 342,
   "id": "a923315c",
   "metadata": {},
   "outputs": [
    {
     "name": "stdout",
     "output_type": "stream",
     "text": [
      "[['eat', 'tea', 'ate'], ['tan', 'nat'], ['bat']]\n"
     ]
    }
   ],
   "source": [
    "strs = [\"eat\",\"tea\",\"tan\",\"ate\",\"nat\",\"bat\"]\n",
    "\n",
    "Output: [[\"bat\"],[\"nat\",\"tan\"],[\"ate\",\"eat\",\"tea\"]]\n",
    "\n",
    "\n",
    "#print( \"\".join(sorted(strs[0])))\n",
    "dct = {}\n",
    "\n",
    "for i in strs:\n",
    "    if \"\".join(sorted(i)) in dct:\n",
    "        dct[\"\".join(sorted(i))].append(i)\n",
    "    else:\n",
    "        dct[\"\".join(sorted(i))] = [i]\n",
    "\n",
    "print (list(dct.values()))\n",
    "        \n",
    "\n",
    "    "
   ]
  },
  {
   "cell_type": "code",
   "execution_count": 348,
   "id": "47fff4f1",
   "metadata": {},
   "outputs": [
    {
     "data": {
      "text/plain": [
       "True"
      ]
     },
     "execution_count": 348,
     "metadata": {},
     "output_type": "execute_result"
    }
   ],
   "source": [
    "# Anagrams\n",
    "l1 = \"cats\"\n",
    "l2 = \"tacs\"\n",
    "\n",
    "def dcts(l1):\n",
    "    dct = {}\n",
    "    for char in l1:\n",
    "        if char in dct:\n",
    "            dct[char] +=1\n",
    "        else:\n",
    "            dct[char] = 0\n",
    "    return dct\n",
    "\n",
    "\n",
    "def anagrams(l1,l2):\n",
    "    return dcts(l1) ==dcts(l2)\n",
    "\n",
    "anagrams (l1,l2)"
   ]
  },
  {
   "cell_type": "code",
   "execution_count": 349,
   "id": "6da155a1",
   "metadata": {},
   "outputs": [
    {
     "data": {
      "text/plain": [
       "True"
      ]
     },
     "execution_count": 349,
     "metadata": {},
     "output_type": "execute_result"
    }
   ],
   "source": [
    "Counter(l1)==Counter(l2)"
   ]
  },
  {
   "cell_type": "code",
   "execution_count": 380,
   "id": "2a1e14de",
   "metadata": {},
   "outputs": [
    {
     "name": "stdout",
     "output_type": "stream",
     "text": [
      "[(2, 't'), (2, 'o'), (1, 'p'), (1, 'a')]\n"
     ]
    }
   ],
   "source": [
    "l1 = \"potato\"\n",
    "nl = [(l1.count(x),x) for x in set(l1)]\n",
    "print (nl)"
   ]
  },
  {
   "cell_type": "code",
   "execution_count": 381,
   "id": "e28b2330",
   "metadata": {},
   "outputs": [
    {
     "data": {
      "text/plain": [
       "{'a', 'o', 'p', 't'}"
      ]
     },
     "execution_count": 381,
     "metadata": {},
     "output_type": "execute_result"
    }
   ],
   "source": [
    "set(l1)"
   ]
  },
  {
   "cell_type": "code",
   "execution_count": 388,
   "id": "7dd80c47",
   "metadata": {},
   "outputs": [
    {
     "name": "stdout",
     "output_type": "stream",
     "text": [
      "{'p': 1, 'o': 2, 't': 2, 'a': 1}\n"
     ]
    }
   ],
   "source": [
    "dct  = {}\n",
    "for char in l1:\n",
    "    if char in dct:\n",
    "        dct[char] +=1\n",
    "    else:\n",
    "        dct[char] = 1\n",
    "print(dct)"
   ]
  },
  {
   "cell_type": "code",
   "execution_count": 389,
   "id": "107b38db",
   "metadata": {},
   "outputs": [
    {
     "name": "stdout",
     "output_type": "stream",
     "text": [
      "o\n"
     ]
    }
   ],
   "source": [
    "max_occur = None\n",
    "for char in l1:\n",
    "    if max_occur is None or dct[char] > dct[max_occur]:\n",
    "        max_occur = char\n",
    "print(max_occur)\n",
    "    "
   ]
  },
  {
   "cell_type": "code",
   "execution_count": 403,
   "id": "e5f454ef",
   "metadata": {},
   "outputs": [],
   "source": [
    "n = [3,2,5,4,1]\n",
    "summ = 8"
   ]
  },
  {
   "cell_type": "code",
   "execution_count": 405,
   "id": "4046d8fb",
   "metadata": {},
   "outputs": [
    {
     "name": "stdout",
     "output_type": "stream",
     "text": [
      "0 2\n"
     ]
    }
   ],
   "source": [
    "dct = {}\n",
    "for i in range(len(n)):\n",
    "    counter = summ-n[i]\n",
    "    if counter in dct:\n",
    "        print (dct[counter],i)\n",
    "    else:\n",
    "        dct[n[i]] = i\n"
   ]
  },
  {
   "cell_type": "code",
   "execution_count": 408,
   "id": "30858836",
   "metadata": {},
   "outputs": [],
   "source": [
    "n = [4,7,9,2,5,1]\n",
    "prod = 35"
   ]
  },
  {
   "cell_type": "code",
   "execution_count": 409,
   "id": "5419a96d",
   "metadata": {},
   "outputs": [
    {
     "name": "stdout",
     "output_type": "stream",
     "text": [
      "1 4\n"
     ]
    }
   ],
   "source": [
    "hash_map = {}\n",
    "for i in range(len(n)):\n",
    "    comp = prod/n[i]\n",
    "    if comp not in hash_map:\n",
    "        hash_map[n[i]] = i\n",
    "    else:\n",
    "        print(hash_map[comp],i)"
   ]
  },
  {
   "cell_type": "code",
   "execution_count": 421,
   "id": "cac3583e",
   "metadata": {},
   "outputs": [
    {
     "ename": "ImportError",
     "evalue": "cannot import name 'intersection' from 'math' (/Users/sahildhingra/opt/anaconda3/lib/python3.8/lib-dynload/math.cpython-38-darwin.so)",
     "output_type": "error",
     "traceback": [
      "\u001b[0;31m---------------------------------------------------------------------------\u001b[0m",
      "\u001b[0;31mImportError\u001b[0m                               Traceback (most recent call last)",
      "Input \u001b[0;32mIn [421]\u001b[0m, in \u001b[0;36m<cell line: 1>\u001b[0;34m()\u001b[0m\n\u001b[0;32m----> 1\u001b[0m \u001b[38;5;28;01mfrom\u001b[39;00m \u001b[38;5;21;01mmath\u001b[39;00m \u001b[38;5;28;01mimport\u001b[39;00m intersection\n\u001b[1;32m      2\u001b[0m n1  \u001b[38;5;241m=\u001b[39m [\u001b[38;5;241m4\u001b[39m,\u001b[38;5;241m2\u001b[39m,\u001b[38;5;241m1\u001b[39m,\u001b[38;5;241m6\u001b[39m] \n\u001b[1;32m      3\u001b[0m n2 \u001b[38;5;241m=\u001b[39m [\u001b[38;5;241m3\u001b[39m,\u001b[38;5;241m6\u001b[39m,\u001b[38;5;241m9\u001b[39m,\u001b[38;5;241m2\u001b[39m,\u001b[38;5;241m10\u001b[39m]\n",
      "\u001b[0;31mImportError\u001b[0m: cannot import name 'intersection' from 'math' (/Users/sahildhingra/opt/anaconda3/lib/python3.8/lib-dynload/math.cpython-38-darwin.so)"
     ]
    }
   ],
   "source": [
    "\n",
    "n1  = [4,2,1,6] \n",
    "n2 = [3,6,9,2,10]\n",
    "print(set(n1) & set(n2))\n"
   ]
  },
  {
   "cell_type": "code",
   "execution_count": null,
   "id": "1bb2d5a9",
   "metadata": {},
   "outputs": [],
   "source": []
  }
 ],
 "metadata": {
  "kernelspec": {
   "display_name": "Python 3 (ipykernel)",
   "language": "python",
   "name": "python3"
  },
  "language_info": {
   "codemirror_mode": {
    "name": "ipython",
    "version": 3
   },
   "file_extension": ".py",
   "mimetype": "text/x-python",
   "name": "python",
   "nbconvert_exporter": "python",
   "pygments_lexer": "ipython3",
   "version": "3.8.2"
  },
  "toc": {
   "base_numbering": 1,
   "nav_menu": {},
   "number_sections": true,
   "sideBar": true,
   "skip_h1_title": false,
   "title_cell": "Table of Contents",
   "title_sidebar": "Contents",
   "toc_cell": false,
   "toc_position": {},
   "toc_section_display": true,
   "toc_window_display": false
  }
 },
 "nbformat": 4,
 "nbformat_minor": 5
}
